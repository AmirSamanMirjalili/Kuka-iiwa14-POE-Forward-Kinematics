{
 "cells": [
  {
   "cell_type": "code",
   "execution_count": 30,
   "metadata": {},
   "outputs": [
    {
     "name": "stdout",
     "output_type": "stream",
     "text": [
      "Matrix([[-q_z], [0], [q_x]])\n"
     ]
    }
   ],
   "source": [
    "import sympy as sp\n",
    "\n",
    "# Define the symbolic variables\n",
    "q_x, q_y, q_z, H1, L1,L2,H2,W1 = sp.symbols('q_x q_y q_z H1 L1 L2 H2 W2')\n",
    "\n",
    "# Define omega\n",
    "omega = sp.Matrix([0, 1, 0])\n",
    "\n",
    "# Define q\n",
    "q = sp.Matrix([q_x, q_y, q_z])\n",
    "\n",
    "# Calculate the cross product q x omega\n",
    "cross_product = q.cross(omega)\n",
    "\n",
    "print(cross_product)"
   ]
  },
  {
   "cell_type": "code",
   "execution_count": 31,
   "metadata": {},
   "outputs": [
    {
     "name": "stdout",
     "output_type": "stream",
     "text": [
      "Matrix([[H1 - H2 - q_z], [0], [-L1 - L2 + q_x]])\n"
     ]
    }
   ],
   "source": [
    "# Given -q x omega = (-H1, 0, 0)\n",
    "given_cross_product = sp.Matrix([H2-H1, 0, L1+L2])\n",
    "\n",
    "# Set up the equation\n",
    "equation = cross_product - given_cross_product\n",
    "\n",
    "print(equation)"
   ]
  },
  {
   "cell_type": "code",
   "execution_count": 32,
   "metadata": {},
   "outputs": [
    {
     "name": "stdout",
     "output_type": "stream",
     "text": [
      "Solution for q:\n",
      "{qₓ: L₁ + L₂, q_z: H₁ - H₂}\n"
     ]
    }
   ],
   "source": [
    "# Solve for q\n",
    "solution = sp.solve(equation, (q_x, q_y, q_z))\n",
    "\n",
    "# Print the solution\n",
    "print(\"Solution for q:\")\n",
    "sp.pprint(solution)"
   ]
  }
 ],
 "metadata": {
  "kernelspec": {
   "display_name": "Python 3",
   "language": "python",
   "name": "python3"
  },
  "language_info": {
   "codemirror_mode": {
    "name": "ipython",
    "version": 3
   },
   "file_extension": ".py",
   "mimetype": "text/x-python",
   "name": "python",
   "nbconvert_exporter": "python",
   "pygments_lexer": "ipython3",
   "version": "3.11.5"
  }
 },
 "nbformat": 4,
 "nbformat_minor": 2
}
