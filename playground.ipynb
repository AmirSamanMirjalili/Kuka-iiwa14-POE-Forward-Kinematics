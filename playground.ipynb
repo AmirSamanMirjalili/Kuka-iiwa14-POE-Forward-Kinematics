{
 "cells": [
  {
   "cell_type": "code",
   "execution_count": 24,
   "metadata": {
    "vscode": {
     "languageId": "cpp"
    }
   },
   "outputs": [],
   "source": [
    "#pragma cling add_include_path(\"/usr/local/include/eigen3\")\n",
    "#pragma cling add_include_path(\"/home/amir/Robotics/Mujoco/Projects/ModernRoboticsCpp/include/\")\n",
    "#pragma cling load(\"/usr/local/lib/libModernRoboticsCpp.so\") // Ensure the shared library is loaded\n",
    "\n",
    "\n",
    "#include <iostream>\n",
    "#include <Eigen/Dense>\n",
    "#include \"modern_robotics.h\"\n",
    "\n"
   ]
  },
  {
   "cell_type": "code",
   "execution_count": 25,
   "metadata": {
    "vscode": {
     "languageId": "cpp"
    }
   },
   "outputs": [],
   "source": [
    "int main() {\n",
    " // Define the end-effector configuration at home position (M)\n",
    "  Eigen::Matrix4d M;\n",
    "  M << 1, 0, 0, 2,\n",
    "       0, 1, 0, 0,\n",
    "       0, 0, 1, 1,\n",
    "       0, 0, 0, 1;\n",
    "\n",
    "  // Define the list of screw axes for each joint in space frame (Slist)\n",
    "  Eigen::MatrixXd Slist(6, 3);\n",
    "  Slist << 0, 0, 1,\n",
    "           0, 1, 0,\n",
    "           1, 0, 0,\n",
    "           0, 0, 0,\n",
    "           0, 0, 0,\n",
    "           0, 0, 0;\n",
    "\n",
    "  // Define the joint angles (thetaList)\n",
    "  Eigen::VectorXd thetaList(3);\n",
    "  thetaList << M_PI / 2, M_PI / 4, M_PI / 6;\n",
    "\n",
    "    // Compute the forward kinematics\n",
    "    Eigen::Matrix4d T = mr::FKinSpace(M, Slist, thetaList);\n",
    "\n",
    "    // Output the result\n",
    "    std::cout << \"The end-effector configuration is:\\n\" << T << std::endl;\n",
    "\n",
    "    return 0;\n",
    "}"
   ]
  },
  {
   "cell_type": "code",
   "execution_count": 26,
   "metadata": {
    "vscode": {
     "languageId": "cpp"
    }
   },
   "outputs": [
    {
     "name": "stdout",
     "output_type": "stream",
     "text": [
      "The end-effector configuration is:\n",
      "7.85046e-17   -0.866025         0.5         0.5\n",
      "   0.707107    0.353553    0.612372     2.02659\n",
      "  -0.707107    0.353553    0.612372   -0.801841\n",
      "          0           0           0           1\n"
     ]
    }
   ],
   "source": [
    "main();"
   ]
  },
  {
   "cell_type": "code",
   "execution_count": 27,
   "metadata": {
    "vscode": {
     "languageId": "cpp"
    }
   },
   "outputs": [],
   "source": [
    "// Function to check if a value is effectively zero\n",
    "bool isEffectivelyZero(double value, double threshold = 1e-9) {\n",
    "    return std::abs(value) < threshold;\n",
    "}"
   ]
  },
  {
   "cell_type": "code",
   "execution_count": 28,
   "metadata": {
    "vscode": {
     "languageId": "cpp"
    }
   },
   "outputs": [],
   "source": [
    "#include <iostream>\n",
    "#include <Eigen/Dense>\n",
    "#include \"modern_robotics.h\"\n",
    "\n",
    "\n",
    "\n",
    "\n",
    "// Function to calculate the screw axis for a joint given its type, axis direction, and a point on the axis\n",
    "Eigen::VectorXd CalculateScrewAxis(const std::string& joint_type, const Eigen::Vector3d& axis_direction, \n",
    "                                   const Eigen::Vector3d& point_on_axis) {\n",
    "  Eigen::VectorXd screw_axis(6); // Initialize screw axis as 6-vector\n",
    "\n",
    "  if (joint_type == \"revolute\") {\n",
    "    screw_axis.head(3) = axis_direction.normalized(); // ωi: Normalized rotation axis\n",
    "    screw_axis.tail(3) = -axis_direction.cross(point_on_axis); // Use the temporary 3D vector for the cross product\n",
    "  } else if (joint_type == \"prismatic\") {\n",
    "    screw_axis.head(3) = Eigen::Vector3d::Zero(); // ωi: Zero for prismatic joints\n",
    "    screw_axis.tail(3) = axis_direction.normalized(); // vi: Normalized translation direction\n",
    "  } else {\n",
    "    std::cerr << \"Error: Invalid joint type. Must be 'revolute' or 'prismatic'.\" << std::endl;\n",
    "    return Eigen::VectorXd::Zero(6); // Return a zero vector on error\n",
    "  }\n",
    "\n",
    "  for (int i = 0; i < 6; ++i) {\n",
    "    if (isEffectivelyZero(screw_axis(i))) {\n",
    "      screw_axis(i) = 0.0; // Set effectively zero values to zero\n",
    "    }\n",
    "  }\n",
    "\n",
    "  return screw_axis.transpose(); // Return the screw axis as a row vector\n",
    "}\n"
   ]
  },
  {
   "cell_type": "code",
   "execution_count": 29,
   "metadata": {
    "vscode": {
     "languageId": "cpp"
    }
   },
   "outputs": [],
   "source": [
    "// Function to calculate and store screw axes in a matrix\n",
    "Eigen::MatrixXd ScrewMat(const std::vector<Eigen::Vector3d>& joint_axes, \n",
    "                         const std::vector<Eigen::Vector3d>& joint_points, \n",
    "                         const std::vector<std::string>& joint_types) {\n",
    "  // Number of joints and size of screw axis\n",
    "  int joint_num = joint_axes.size();\n",
    "  const int screw_axes_size = 6;\n",
    "\n",
    "  // Initialize the matrix to store screw axes\n",
    "  Eigen::MatrixXd Slist(joint_num, screw_axes_size);\n",
    "\n",
    "  // Loop to calculate and store screw axes\n",
    "  for (int i = 0; i < joint_num; ++i) {\n",
    "    Eigen::VectorXd S = CalculateScrewAxis(joint_types[i], joint_axes[i], joint_points[i]);\n",
    "    Slist.row(i) = S;\n",
    "    std::cout << \"S\" << i + 1 << \": \" << S.transpose() << std::endl;\n",
    "  }\n",
    "\n",
    "  // Print the entire Slist matrix\n",
    "  std::cout << \"Slist matrix:\\n\" << Slist << std::endl;\n",
    "\n",
    "  return Slist;\n",
    "}"
   ]
  },
  {
   "cell_type": "code",
   "execution_count": 30,
   "metadata": {
    "vscode": {
     "languageId": "cpp"
    }
   },
   "outputs": [],
   "source": [
    "bool NearZero(const double val)\n",
    "    {\n",
    "        return (std::abs(val) < .000001);\n",
    "    }\n",
    "\n"
   ]
  },
  {
   "cell_type": "code",
   "execution_count": 31,
   "metadata": {
    "vscode": {
     "languageId": "cpp"
    }
   },
   "outputs": [],
   "source": [
    "// Function to calculate the screw axis for a joint given its type, axis direction, and a point on the axis\n",
    "    Eigen::VectorXd CalculateScrewAxis(const std::string &joint_type, const Eigen::Vector3d &axis_direction,\n",
    "                                       const Eigen::Vector3d &point_on_axis)\n",
    "    {\n",
    "        Eigen::VectorXd screw_axis(6); // Initialize screw axis as 6-vector\n",
    "\n",
    "        if (joint_type == \"revolute\")\n",
    "        {\n",
    "            screw_axis.head(3) = axis_direction.normalized();          // ωi: Normalized rotation axis\n",
    "            screw_axis.tail(3) = -axis_direction.cross(point_on_axis); // Use the temporary 3D vector for the cross product\n",
    "        }\n",
    "        else if (joint_type == \"prismatic\")\n",
    "        {\n",
    "            screw_axis.head(3) = Eigen::Vector3d::Zero();     // ωi: Zero for prismatic joints\n",
    "            screw_axis.tail(3) = axis_direction.normalized(); // vi: Normalized translation direction\n",
    "        }\n",
    "        else\n",
    "        {\n",
    "            std::cerr << \"Error: Invalid joint type. Must be 'revolute' or 'prismatic'.\" << std::endl;\n",
    "            return Eigen::VectorXd::Zero(6); // Return a zero vector on error\n",
    "        }\n",
    "\n",
    "        // Example logic for adjusting values\n",
    "        for (auto &value : screw_axis)\n",
    "        {\n",
    "            if (NearZero(value))\n",
    "            {\n",
    "                value = 0.0; // Adjusting the value to be exactly zero\n",
    "            }\n",
    "        }\n",
    "        \n",
    "        //print the screw axis\n",
    "        std::cout << \"Screw axis: \" << screw_axis.transpose() << std::endl;\n",
    "\n",
    "        return screw_axis;\n",
    "    }"
   ]
  },
  {
   "cell_type": "code",
   "execution_count": 32,
   "metadata": {
    "vscode": {
     "languageId": "cpp"
    }
   },
   "outputs": [],
   "source": [
    "\n",
    "    // Function to calculate and store screw axes in a matrix\n",
    "    Eigen::MatrixXd ScrewMat(const std::vector<Eigen::Vector3d> &joint_axes,\n",
    "                             const std::vector<Eigen::Vector3d> &joint_points,\n",
    "                             const std::vector<std::string> &joint_types)\n",
    "    {\n",
    "        // Number of joints and size of screw axis\n",
    "        int joint_num = joint_axes.size();\n",
    "        const int screw_axes_size = 6;\n",
    "\n",
    "        // Initialize the matrix to store screw axes\n",
    "        Eigen::MatrixXd Slist(screw_axes_size,joint_num);\n",
    "\n",
    "        // Loop to calculate and store screw axes\n",
    "        for (int i = 0; i < joint_num; ++i)\n",
    "        {\n",
    "            Eigen::VectorXd S = CalculateScrewAxis(joint_types[i], joint_axes[i], joint_points[i]);\n",
    "            Slist.col(i) = S;\n",
    "            std::cout << \"S\" << i + 1 << \": \" << S.transpose() << std::endl;\n",
    "        }\n",
    "\n",
    "        // Print the entire Slist matrix\n",
    "        std::cout << \"Slist matrix:\\n\"\n",
    "                  << Slist << std::endl;\n",
    "\n",
    "        return Slist;\n",
    "    }"
   ]
  },
  {
   "cell_type": "code",
   "execution_count": 33,
   "metadata": {
    "vscode": {
     "languageId": "cpp"
    }
   },
   "outputs": [],
   "source": [
    "void Test1() {\n",
    "  //UR5 6R robot arm\n",
    "\n",
    "  \n",
    "    // Define joint axes\n",
    "    std::vector<Eigen::Vector3d> joint_axes = {\n",
    "        {0, 0, 1},\n",
    "        {0, 1, 0},\n",
    "        {0, 1, 0},\n",
    "        {0, 1, 0},\n",
    "        {0, 0, -1},\n",
    "        {0, 1, 0}\n",
    "    };\n",
    "    double W1=0.109, W2=0.082, L1=0.425, L2=0.392 ,H1=0.089, H2=0.095;\n",
    "\n",
    "    Eigen::Matrix4d M;\n",
    "    M << 1, 0, 0, L1+L2,\n",
    "        0, 1, 0, W1+W2,\n",
    "        0, 1, 0, H1-H2,\n",
    "        0, 0, 0, 1;\n",
    "     // Define points on the joint axes\n",
    "    std::vector<Eigen::Vector3d> joint_points = {\n",
    "        {0, 0, 0},                // joint1\n",
    "        {0, 0, H1},          // joint2\n",
    "        {L1, 0,H1}, // joint3\n",
    "        {L1+L2, 0, H1}, // joint4\n",
    "        {L1+L2, W1, 0}, // joint5\n",
    "        {L1+L2, 0,H1-H2} // joint6\n",
    "    };\n",
    "\n",
    "\n",
    "    // Define joint types\n",
    "    std::vector<std::string> joint_types = {\n",
    "        \"revolute\",\n",
    "        \"revolute\",\n",
    "        \"revolute\",\n",
    "        \"revolute\",\n",
    "        \"revolute\",\n",
    "        \"revolute\"\n",
    "    };\n",
    "\n",
    "    // Call the ScrewMat function\n",
    "    Eigen::MatrixXd Slist = ScrewMat(joint_axes, joint_points, joint_types);\n",
    "\n",
    "    \n",
    "    // Joint angles\n",
    "    Eigen::VectorXd thetaList(6);\n",
    "    thetaList << 0, -M_PI/2, 0, 0, M_PI/2, 0;\n",
    "\n",
    "\n",
    "    Eigen::Matrix4d T=mr::FKinSpace(M,Slist, thetaList);\n",
    "\n",
    "    std::cout << \"The end-effector configuration is:\\n\" << T << std::endl;\n",
    "}"
   ]
  },
  {
   "cell_type": "code",
   "execution_count": 34,
   "metadata": {
    "vscode": {
     "languageId": "cpp"
    }
   },
   "outputs": [
    {
     "name": "stdout",
     "output_type": "stream",
     "text": [
      "Screw axis: 0 0 1 0 0 0\n",
      "S1: 0 0 1 0 0 0\n",
      "Screw axis:      0      1      0 -0.089      0      0\n",
      "S2:      0      1      0 -0.089      0      0\n",
      "Screw axis:      0      1      0 -0.089      0  0.425\n",
      "S3:      0      1      0 -0.089      0  0.425\n",
      "Screw axis:      0      1      0 -0.089      0  0.817\n",
      "S4:      0      1      0 -0.089      0  0.817\n",
      "Screw axis:      0      0     -1 -0.109  0.817      0\n",
      "S5:      0      0     -1 -0.109  0.817      0\n",
      "Screw axis:     0     1     0 0.006     0 0.817\n",
      "S6:     0     1     0 0.006     0 0.817\n",
      "Slist matrix:\n",
      "     0      0      0      0      0      0\n",
      "     0      1      1      1      0      1\n",
      "     1      0      0      0     -1      0\n",
      "     0 -0.089 -0.089 -0.089 -0.109  0.006\n",
      "     0      0      0      0  0.817      0\n",
      "     0      0  0.425  0.817      0  0.817\n",
      "The end-effector configuration is:\n",
      " 1.2326e-32          -1           0       0.095\n",
      "         -1 1.11022e-16           0       0.109\n",
      "1.11022e-16           1           0       0.988\n",
      "          0           0           0           1\n"
     ]
    }
   ],
   "source": [
    "Test1();"
   ]
  }
 ],
 "metadata": {
  "kernelspec": {
   "display_name": "C++17",
   "language": "C++17",
   "name": "xcpp17"
  },
  "language_info": {
   "codemirror_mode": "text/x-c++src",
   "file_extension": ".cpp",
   "mimetype": "text/x-c++src",
   "name": "C++17",
   "version": "17"
  }
 },
 "nbformat": 4,
 "nbformat_minor": 2
}
